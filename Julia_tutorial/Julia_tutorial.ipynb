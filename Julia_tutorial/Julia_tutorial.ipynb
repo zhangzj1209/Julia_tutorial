{
 "cells": [
  {
   "cell_type": "markdown",
   "id": "9e9982c7",
   "metadata": {},
   "source": [
    "# 0、Julia软件安装"
   ]
  },
  {
   "cell_type": "markdown",
   "id": "21d8bf91",
   "metadata": {},
   "source": [
    "## 0-1、学习资源"
   ]
  },
  {
   "cell_type": "markdown",
   "id": "bcea8967",
   "metadata": {},
   "source": [
    "- Julia主网站：[https://julialang.org/](https://julialang.org)\n",
    "- Julia官方文档：[https://docs.julialang.org/en/v1/](https://docs.julialang.org/en/v1/)\n",
    "- Julia扩展包查找：[https://juliahub.com/ui/Packages](https://juliahub.com/ui/Packages)\n",
    "- 清华大学开源软件镜像网站：[https://mirror.tuna.tsinghua.edu.cn/help/julia/](https://help.mirrors.cernet.edu.cn/julia/)"
   ]
  },
  {
   "cell_type": "markdown",
   "id": "74894e03",
   "metadata": {},
   "source": [
    "## 0-2、Julia命令行程序的安装和使用"
   ]
  },
  {
   "cell_type": "markdown",
   "id": "8baae3fa",
   "metadata": {},
   "source": [
    "### 下载和解压`julia`软件包\n",
    "```bash\n",
    "wget https://julialang-s3.julialang.org/bin/linux/x64/1.7/julia-1.7.3-linux-x86_64.tar.gz\n",
    "tar zxvf julia-1.7.3-linux-x86_64.tar.gz\n",
    "```"
   ]
  },
  {
   "cell_type": "markdown",
   "id": "b319a6b0",
   "metadata": {},
   "source": [
    "### 添加环境变量\n",
    "```bash\n",
    "vim ~/.bashrc\n",
    "export PATH=\"$PATH:/data/ustc/julia-1.7.3/bin\"\n",
    "source ~/.bashrc\n",
    "```"
   ]
  },
  {
   "cell_type": "markdown",
   "id": "4746de6a",
   "metadata": {},
   "source": [
    "### 将`Julia`添加到`Jupyter Notebook`\n",
    "```julia\n",
    "import Pkg\n",
    "Pkg.add(\"IJulia\")\n",
    "```"
   ]
  },
  {
   "cell_type": "markdown",
   "id": "d4b45f42",
   "metadata": {},
   "source": [
    "# 1、概述"
   ]
  },
  {
   "cell_type": "markdown",
   "id": "56b1a088",
   "metadata": {},
   "source": [
    "## 1-1、命令行运行`julia`启动交互式会话（REPL）"
   ]
  },
  {
   "cell_type": "markdown",
   "id": "4e02f287",
   "metadata": {},
   "source": [
    "```bash\n",
    "$ julia\n",
    "  \n",
    "               _\n",
    "   _       _ _(_)_     |  Documentation: https://docs.julialang.org\n",
    "  (_)     | (_) (_)    |\n",
    "   _ _   _| |_  __ _   |  Type \"?\" for help, \"]?\" for Pkg help.\n",
    "  | | | | | | |/ _` |  |\n",
    "  | | |_| | | | (_| |  |  Version 1.7.3 (2022-05-06)\n",
    " _/ |\\__'_|_|_|\\__'_|  |  Official https://julialang.org/ release\n",
    "|__/                   |\n",
    "\n",
    "julia> \n",
    "```"
   ]
  },
  {
   "cell_type": "markdown",
   "id": "e343b6f3",
   "metadata": {},
   "source": [
    "## 1-2、`julia`基本命令"
   ]
  },
  {
   "cell_type": "markdown",
   "id": "a88e3dbd",
   "metadata": {},
   "source": [
    "### 查看`julia`的配置情况："
   ]
  },
  {
   "cell_type": "code",
   "execution_count": 1,
   "id": "083df24c",
   "metadata": {},
   "outputs": [
    {
     "name": "stdout",
     "output_type": "stream",
     "text": [
      "Julia Version 1.7.3\n",
      "Commit 742b9abb4d (2022-05-06 12:58 UTC)\n",
      "Platform Info:\n",
      "  OS: macOS (x86_64-apple-darwin21.4.0)\n",
      "  CPU: Apple M2\n",
      "  WORD_SIZE: 64\n",
      "  LIBM: libopenlibm\n",
      "  LLVM: libLLVM-12.0.1 (ORCJIT, westmere)\n"
     ]
    }
   ],
   "source": [
    "versioninfo()"
   ]
  },
  {
   "cell_type": "markdown",
   "id": "e984439d",
   "metadata": {},
   "source": [
    "### 显示当前工作路径："
   ]
  },
  {
   "cell_type": "code",
   "execution_count": 2,
   "id": "850f26b0",
   "metadata": {},
   "outputs": [
    {
     "data": {
      "text/plain": [
       "\"/Users/zhangzhengjie/Research/202406_Julia_tutorial/Julia_tutorial\""
      ]
     },
     "execution_count": 2,
     "metadata": {},
     "output_type": "execute_result"
    }
   ],
   "source": [
    "pwd()"
   ]
  },
  {
   "cell_type": "markdown",
   "id": "54237e63",
   "metadata": {},
   "source": [
    "### 更改工作目录："
   ]
  },
  {
   "cell_type": "code",
   "execution_count": 3,
   "id": "4b787217",
   "metadata": {},
   "outputs": [],
   "source": [
    "cd(\"/Users/zhangzhengjie/Research/202406_Julia_tutorial/\")"
   ]
  },
  {
   "cell_type": "markdown",
   "id": "a08a2a83",
   "metadata": {},
   "source": [
    "## 1-3、利用REPL执行源文件"
   ]
  },
  {
   "cell_type": "markdown",
   "id": "d8201c6f",
   "metadata": {},
   "source": [
    "### `julia`源程序用`.jl`作为扩展名，运行**当前目录下**的`my_program.jl`："
   ]
  },
  {
   "cell_type": "code",
   "execution_count": 4,
   "id": "e62e2ef6",
   "metadata": {},
   "outputs": [
    {
     "ename": "LoadError",
     "evalue": "SystemError: opening file \"/Users/zhangzhengjie/Research/202406_Julia_tutorial/my_program.jl\": No such file or directory",
     "output_type": "error",
     "traceback": [
      "SystemError: opening file \"/Users/zhangzhengjie/Research/202406_Julia_tutorial/my_program.jl\": No such file or directory",
      "",
      "Stacktrace:",
      "  [1] systemerror(p::String, errno::Int32; extrainfo::Nothing)",
      "    @ Base ./error.jl:174",
      "  [2] #systemerror#68",
      "    @ ./error.jl:173 [inlined]",
      "  [3] systemerror",
      "    @ ./error.jl:173 [inlined]",
      "  [4] open(fname::String; lock::Bool, read::Nothing, write::Nothing, create::Nothing, truncate::Nothing, append::Nothing)",
      "    @ Base ./iostream.jl:293",
      "  [5] open",
      "    @ ./iostream.jl:282 [inlined]",
      "  [6] open(f::Base.var\"#364#365\"{String}, args::String; kwargs::Base.Pairs{Symbol, Union{}, Tuple{}, NamedTuple{(), Tuple{}}})",
      "    @ Base ./io.jl:328",
      "  [7] open",
      "    @ ./io.jl:328 [inlined]",
      "  [8] read",
      "    @ ./io.jl:436 [inlined]",
      "  [9] _include(mapexpr::Function, mod::Module, _path::String)",
      "    @ Base ./loading.jl:1249",
      " [10] include(fname::String)",
      "    @ Base.MainInclude ./client.jl:451",
      " [11] top-level scope",
      "    @ In[4]:1"
     ]
    }
   ],
   "source": [
    "include(\"my_program.jl\")"
   ]
  },
  {
   "cell_type": "markdown",
   "id": "91d64a0c",
   "metadata": {},
   "source": [
    "## 1-4、REPL的提示模式"
   ]
  },
  {
   "cell_type": "markdown",
   "id": "3aa0c016",
   "metadata": {},
   "source": [
    "### REPL的5种提示模式：\n",
    "- **Julia模式**：第一行开头为`julia>`的模式，为REPL的默认操作模式。\n",
    "- **Help模式**：在Julia模式下键入`?`可进入Help模式查看帮助文档（按`Backspace`可退出Help模式）。如在`help?>`后输入：\n",
    "```julia\n",
    "print()\n",
    "```\n",
    "- **Shell模式**：在Julia模式下键入`;`可进入Shell模式（按`Backspace`可退出Shell模式）。如在`shell>`后输入：\n",
    "```julia\n",
    "cd /data/ustc/\n",
    "```\n",
    "- **i-search模式**：在Julia模式下同时按`Ctrl`键+`R`键可进入i-search模式（同时按`Ctrl`键+`C`键可退出i-search模式）。\n",
    "- **pacakge模式**：在Julia模式下键入`]`可进入pacakge模式（按`Backspace`可退出pacakge模式），可通过运行如下命令来管理Package：\n",
    "  - `help`：查看Package。\n",
    "  - `status`：查看安装的Package列表。\n",
    "  - `add xxx`：安装某个Package。\n",
    "  - `build xxx`：使Package能够运行。\n",
    "  - `update xxx`：更新Package到新版本。\n",
    "  - `remove xxx`：删除Package。"
   ]
  },
  {
   "cell_type": "markdown",
   "id": "767c9d5b",
   "metadata": {},
   "source": [
    "## 1-5、REPL中的快捷键与注意事项"
   ]
  },
  {
   "cell_type": "markdown",
   "id": "0f12d462",
   "metadata": {},
   "source": [
    "- 同时按`Ctrl`键+`D`键或输入`exit()`可退出REPL。\n",
    "- 同时按`Ctrl`键+`C`键可中止当前正在运行的耗时较长的程序。\n",
    "- 在REPL中，在代码的结尾加上`;`，则其结果不会被显示。\n",
    "- 变量`ans`总会储存最新一行执行代码的结果。"
   ]
  },
  {
   "cell_type": "markdown",
   "id": "6a97596d",
   "metadata": {},
   "source": [
    "# 2、数据类型与基本运算"
   ]
  },
  {
   "cell_type": "markdown",
   "id": "b427a1b1",
   "metadata": {},
   "source": [
    "## 2-1、常量与变量"
   ]
  },
  {
   "cell_type": "markdown",
   "id": "82154758",
   "metadata": {},
   "source": [
    "### 常量的关键字是`const`"
   ]
  },
  {
   "cell_type": "code",
   "execution_count": 5,
   "id": "4ab56078",
   "metadata": {},
   "outputs": [
    {
     "data": {
      "text/plain": [
       "2.718281828459045"
      ]
     },
     "execution_count": 5,
     "metadata": {},
     "output_type": "execute_result"
    }
   ],
   "source": [
    "const e = 2.71828182845904523536"
   ]
  },
  {
   "cell_type": "code",
   "execution_count": 6,
   "id": "f93c5aa5",
   "metadata": {},
   "outputs": [
    {
     "data": {
      "text/plain": [
       "3.141592653589793"
      ]
     },
     "execution_count": 6,
     "metadata": {},
     "output_type": "execute_result"
    }
   ],
   "source": [
    "const pi = 3.14159265358979323846"
   ]
  },
  {
   "cell_type": "markdown",
   "id": "6d6ece56",
   "metadata": {},
   "source": [
    "### 变量类型"
   ]
  },
  {
   "cell_type": "code",
   "execution_count": 7,
   "id": "4954e30f",
   "metadata": {},
   "outputs": [
    {
     "data": {
      "text/plain": [
       "10"
      ]
     },
     "execution_count": 7,
     "metadata": {},
     "output_type": "execute_result"
    }
   ],
   "source": [
    "x = 10          # 整型变量"
   ]
  },
  {
   "cell_type": "code",
   "execution_count": 8,
   "id": "676c8513",
   "metadata": {},
   "outputs": [
    {
     "data": {
      "text/plain": [
       "-10.0"
      ]
     },
     "execution_count": 8,
     "metadata": {},
     "output_type": "execute_result"
    }
   ],
   "source": [
    "y = -10.0       # 浮点型变量"
   ]
  },
  {
   "cell_type": "code",
   "execution_count": 9,
   "id": "8f0a9313",
   "metadata": {},
   "outputs": [
    {
     "data": {
      "text/plain": [
       "1 + 2im"
      ]
     },
     "execution_count": 9,
     "metadata": {},
     "output_type": "execute_result"
    }
   ],
   "source": [
    "z = 1 + 2im     # 复数变量"
   ]
  },
  {
   "cell_type": "code",
   "execution_count": 10,
   "id": "06a0a37d",
   "metadata": {},
   "outputs": [
    {
     "data": {
      "text/plain": [
       "2//3"
      ]
     },
     "execution_count": 10,
     "metadata": {},
     "output_type": "execute_result"
    }
   ],
   "source": [
    "k = 2//3        # 有理数变量"
   ]
  },
  {
   "cell_type": "code",
   "execution_count": 11,
   "id": "45ca2066",
   "metadata": {},
   "outputs": [
    {
     "data": {
      "text/plain": [
       "\"zhang\""
      ]
     },
     "execution_count": 11,
     "metadata": {},
     "output_type": "execute_result"
    }
   ],
   "source": [
    "name = \"zhang\"  # 字符串变量"
   ]
  },
  {
   "cell_type": "code",
   "execution_count": 12,
   "id": "3fd4fc0f",
   "metadata": {},
   "outputs": [
    {
     "data": {
      "text/plain": [
       "'A': ASCII/Unicode U+0041 (category Lu: Letter, uppercase)"
      ]
     },
     "execution_count": 12,
     "metadata": {},
     "output_type": "execute_result"
    }
   ],
   "source": [
    "myc = 'A'       # 字符变量"
   ]
  },
  {
   "cell_type": "markdown",
   "id": "b6a3e27f",
   "metadata": {},
   "source": [
    "## 2-2、整数与浮点数"
   ]
  },
  {
   "cell_type": "markdown",
   "id": "c37697aa",
   "metadata": {},
   "source": [
    "### `julia`中的整数可直接写成`-123`。"
   ]
  },
  {
   "cell_type": "code",
   "execution_count": 13,
   "id": "1f2dd072",
   "metadata": {},
   "outputs": [
    {
     "data": {
      "text/plain": [
       "Int64"
      ]
     },
     "execution_count": 13,
     "metadata": {},
     "output_type": "execute_result"
    }
   ],
   "source": [
    "# 64位系统：\n",
    "typeof(-123)    # 用typeof()求某个值的类型"
   ]
  },
  {
   "cell_type": "markdown",
   "id": "8125c3ed",
   "metadata": {},
   "source": [
    "### `julia`中的浮点数可直接写成`0.123`，也可直接写成科学记数法形式`1.23e-1`。"
   ]
  },
  {
   "cell_type": "code",
   "execution_count": 14,
   "id": "1e9d6506",
   "metadata": {},
   "outputs": [
    {
     "data": {
      "text/plain": [
       "Float64"
      ]
     },
     "execution_count": 14,
     "metadata": {},
     "output_type": "execute_result"
    }
   ],
   "source": [
    "typeof(1.23e-1)"
   ]
  },
  {
   "cell_type": "markdown",
   "id": "b88e3369",
   "metadata": {},
   "source": [
    "### `julia`中的复数可直接写成`1+2im`。"
   ]
  },
  {
   "cell_type": "code",
   "execution_count": 15,
   "id": "f9a98021",
   "metadata": {},
   "outputs": [
    {
     "data": {
      "text/plain": [
       "Complex{Int64}"
      ]
     },
     "execution_count": 15,
     "metadata": {},
     "output_type": "execute_result"
    }
   ],
   "source": [
    "typeof(1+2im)"
   ]
  },
  {
   "cell_type": "markdown",
   "id": "4ba7371c",
   "metadata": {},
   "source": [
    "### `julia`中的字符用单引号`''`表示，字符串用双引号`“”`或三重双引号`\"\"\"\"\"\"`表示。"
   ]
  },
  {
   "cell_type": "code",
   "execution_count": 16,
   "id": "9c9856ca",
   "metadata": {},
   "outputs": [
    {
     "data": {
      "text/plain": [
       "Char"
      ]
     },
     "execution_count": 16,
     "metadata": {},
     "output_type": "execute_result"
    }
   ],
   "source": [
    "typeof('A')"
   ]
  },
  {
   "cell_type": "code",
   "execution_count": 17,
   "id": "9ddc09f1",
   "metadata": {},
   "outputs": [
    {
     "data": {
      "text/plain": [
       "String"
      ]
     },
     "execution_count": 17,
     "metadata": {},
     "output_type": "execute_result"
    }
   ],
   "source": [
    "typeof(\"ustc\")"
   ]
  },
  {
   "cell_type": "markdown",
   "id": "442fad96",
   "metadata": {},
   "source": [
    "## 2-3、四则运算"
   ]
  },
  {
   "cell_type": "markdown",
   "id": "d5b457ec",
   "metadata": {},
   "source": [
    "| 表达式 | 说明 |  \n",
    "| - | - |\n",
    "| `-x` | 取相反数 |   \n",
    "| `x + y` | 加法 |\n",
    "| `x - y` | 减法 |\n",
    "| `x * y` | 乘法 |\n",
    "| `x / y` | 除法 |\n",
    "| `x ÷ y` | 取`x / y`的整数部分 |\n",
    "| `x \\ y` | 反向除法，等价于`y / x` |\n",
    "| `x ^ y` | `x`的`y`次幂 |\n",
    "| `x % y` | 取余数，等价于`rem(x,y)` |"
   ]
  },
  {
   "cell_type": "markdown",
   "id": "5cada01d",
   "metadata": {},
   "source": [
    "其中，`÷`的输入方法为键入`\\div`后按`Tab`，如此还可输入`α`(\\alpha)、`π`(\\pi)、`∑`(\\sum)、`≥`(\\ge)、`≤`(\\le)、`≠`(\\ne)、`∈`(\\in)等。"
   ]
  },
  {
   "cell_type": "markdown",
   "id": "9fe85771",
   "metadata": {},
   "source": [
    "## 2-4、数学函数"
   ]
  },
  {
   "cell_type": "markdown",
   "id": "2a8b81d1",
   "metadata": {},
   "source": [
    "- 常见等数学函数有：`log`，`exp`，`sqrt`，`sin`，`cos`，`tan`等。"
   ]
  },
  {
   "cell_type": "markdown",
   "id": "de051ae5",
   "metadata": {},
   "source": [
    "- `divrem(x, y)`：同时返回`x`除以`y`的商和余数。"
   ]
  },
  {
   "cell_type": "markdown",
   "id": "08c92356",
   "metadata": {},
   "source": [
    "- `round(Int, x)`将`x`四舍五入到整数，`round(x, digits=2)`将`x`四舍五入到2位小数，`round(x)`将`x`四舍五入到0位小数的浮点数。"
   ]
  },
  {
   "cell_type": "markdown",
   "id": "59203745",
   "metadata": {},
   "source": [
    "- `floor(Int, x)`求小于等于`x`的最大整数，`floor(x)`返回小于等于`x`的最大整数对应的浮点值。"
   ]
  },
  {
   "cell_type": "markdown",
   "id": "49ac54c5",
   "metadata": {},
   "source": [
    "- `ceil(Int, x)`求大于等于`x`的最大整数，`ceil(x)`返回大于等于`x`的最大整数对应的浮点值。"
   ]
  },
  {
   "cell_type": "markdown",
   "id": "85374f89",
   "metadata": {},
   "source": [
    "- `factorial(n)`计算阶乘。"
   ]
  },
  {
   "cell_type": "markdown",
   "id": "21a0fe6d",
   "metadata": {},
   "source": [
    "## 2-5、字符串的其他操作"
   ]
  },
  {
   "cell_type": "markdown",
   "id": "31e72253",
   "metadata": {},
   "source": [
    "### `*`连接两个字符串："
   ]
  },
  {
   "cell_type": "code",
   "execution_count": 18,
   "id": "cd2e4090",
   "metadata": {},
   "outputs": [
    {
     "data": {
      "text/plain": [
       "\"julia_tutorial\""
      ]
     },
     "execution_count": 18,
     "metadata": {},
     "output_type": "execute_result"
    }
   ],
   "source": [
    "\"julia_\" * \"tutorial\""
   ]
  },
  {
   "cell_type": "markdown",
   "id": "0af7dfd6",
   "metadata": {},
   "source": [
    "### `^`表示字符串重复："
   ]
  },
  {
   "cell_type": "code",
   "execution_count": 19,
   "id": "60fea933",
   "metadata": {},
   "outputs": [
    {
     "data": {
      "text/plain": [
       "\"programprogramprogram\""
      ]
     },
     "execution_count": 19,
     "metadata": {},
     "output_type": "execute_result"
    }
   ],
   "source": [
    "\"program\" ^ 3"
   ]
  },
  {
   "cell_type": "markdown",
   "id": "f1638de3",
   "metadata": {},
   "source": [
    "# 3、流程控制与逻辑运算"
   ]
  },
  {
   "cell_type": "markdown",
   "id": "219b71ed",
   "metadata": {},
   "source": [
    "## 3-1、运算符"
   ]
  },
  {
   "cell_type": "markdown",
   "id": "bda11584",
   "metadata": {},
   "source": [
    "### **关系运算符**"
   ]
  },
  {
   "cell_type": "markdown",
   "id": "679f5cb5",
   "metadata": {},
   "source": [
    "| 等于 | 不等于 | 大于 | 小于 | 大于等于 | 小于等于 |\n",
    "| - | - | - | - | - | - |\n",
    "| `==` | `!=` | `>` | `<` | `>=` | `<=` |"
   ]
  },
  {
   "cell_type": "markdown",
   "id": "e34461fc",
   "metadata": {},
   "source": [
    "### **逻辑运算符**"
   ]
  },
  {
   "cell_type": "markdown",
   "id": "70701b04",
   "metadata": {},
   "source": [
    "| 运算符 | 逻辑表达式 | 意义 |\n",
    "| - | - | - |\n",
    "| `&&` | `x && y` | 如果两个操作数都非零，则条件为真 |\n",
    "| `\\|\\|` | `x \\|\\| y` | 如果两个操作数中有任意一个非零，则条件为真 |\n",
    "| `!` | `! x` | 逆转操作数的逻辑状态 |"
   ]
  },
  {
   "cell_type": "markdown",
   "id": "dcede908",
   "metadata": {},
   "source": [
    "逻辑运算符优先级低于关系运算符；逻辑运算符内部优先级为`!` > `&&` > `||`。"
   ]
  },
  {
   "cell_type": "markdown",
   "id": "f218370b",
   "metadata": {},
   "source": [
    "## 3-2、if"
   ]
  },
  {
   "cell_type": "markdown",
   "id": "feb3da29",
   "metadata": {},
   "source": [
    "### **一般格式**\n",
    "```julia\n",
    "if 条件1\n",
    "    ......\n",
    "elseif 条件2\n",
    "    ......\n",
    "else\n",
    "    ......\n",
    "end\n",
    "```"
   ]
  },
  {
   "cell_type": "markdown",
   "id": "3c6c984e",
   "metadata": {},
   "source": [
    "### **嵌套if**\n",
    "```julia\n",
    "if 条件1\n",
    "    ......\n",
    "    if 条件2\n",
    "        ......\n",
    "    elseif 条件3\n",
    "        ......\n",
    "    else\n",
    "        ......\n",
    "    end\n",
    "elseif 条件4\n",
    "    ......\n",
    "else\n",
    "    ......\n",
    "end\n",
    "```"
   ]
  },
  {
   "cell_type": "markdown",
   "id": "ddf25d68",
   "metadata": {},
   "source": [
    "## 3-3、条件运算符及条件表达式"
   ]
  },
  {
   "cell_type": "markdown",
   "id": "45e9ed5c",
   "metadata": {},
   "source": [
    "- 三元运算符`? :`，其构成的条件表达式为：\n",
    "```julia\n",
    "表达式1 ? 表达式2 : 表达式3\n",
    "```"
   ]
  },
  {
   "cell_type": "markdown",
   "id": "72a99391",
   "metadata": {},
   "source": [
    "若`表达式1`的值为真，则返回`表达式2`的值，否则返回`表达式3`的值。"
   ]
  },
  {
   "cell_type": "markdown",
   "id": "82177d9e",
   "metadata": {},
   "source": [
    "## 3-4、复合表达式"
   ]
  },
  {
   "cell_type": "markdown",
   "id": "825e185b",
   "metadata": {},
   "source": [
    "### **`begin`块**"
   ]
  },
  {
   "cell_type": "code",
   "execution_count": 20,
   "id": "c6b9367b",
   "metadata": {},
   "outputs": [
    {
     "data": {
      "text/plain": [
       "174"
      ]
     },
     "execution_count": 20,
     "metadata": {},
     "output_type": "execute_result"
    }
   ],
   "source": [
    "t = begin\n",
    "    x = 15\n",
    "    y = 12\n",
    "    z = 6\n",
    "    x * y - z\n",
    "end"
   ]
  },
  {
   "cell_type": "markdown",
   "id": "9a407ac7",
   "metadata": {},
   "source": [
    "### **链**"
   ]
  },
  {
   "cell_type": "code",
   "execution_count": 21,
   "id": "4092a3e4",
   "metadata": {},
   "outputs": [
    {
     "data": {
      "text/plain": [
       "12"
      ]
     },
     "execution_count": 21,
     "metadata": {},
     "output_type": "execute_result"
    }
   ],
   "source": [
    "x = ( a = 2 ;\n",
    "      b = 3 ;\n",
    "      c = 6 ;\n",
    "      a*b+c\n",
    ")"
   ]
  },
  {
   "cell_type": "markdown",
   "id": "7da9307e",
   "metadata": {},
   "source": [
    "## 3-5、异常处理"
   ]
  },
  {
   "cell_type": "markdown",
   "id": "b9e81023",
   "metadata": {},
   "source": [
    "### **`try...catch`语句**"
   ]
  },
  {
   "cell_type": "code",
   "execution_count": 22,
   "id": "da95b724",
   "metadata": {},
   "outputs": [
    {
     "name": "stdout",
     "output_type": "stream",
     "text": [
      "只有非负数才能求平方根！\n"
     ]
    }
   ],
   "source": [
    "try\n",
    "    sqrt(-2)\n",
    "catch\n",
    "    println(\"只有非负数才能求平方根！\")\n",
    "end"
   ]
  },
  {
   "cell_type": "markdown",
   "id": "c7131a3b",
   "metadata": {},
   "source": [
    "### **`try...finally`语句**  "
   ]
  },
  {
   "cell_type": "markdown",
   "id": "ecf1d847",
   "metadata": {},
   "source": [
    "无论程序如何退出，`finally`语句总被执行。"
   ]
  },
  {
   "cell_type": "code",
   "execution_count": 23,
   "id": "477482a6",
   "metadata": {},
   "outputs": [
    {
     "name": "stdout",
     "output_type": "stream",
     "text": [
      "只有非负数才能求平方根！\n",
      "我是finally语句！\n"
     ]
    }
   ],
   "source": [
    "try\n",
    "    sqrt(-2)\n",
    "catch\n",
    "    println(\"只有非负数才能求平方根！\")\n",
    "finally\n",
    "    println(\"我是finally语句！\")\n",
    "end"
   ]
  },
  {
   "cell_type": "markdown",
   "id": "3b0208da",
   "metadata": {},
   "source": [
    "# 4、循环"
   ]
  },
  {
   "cell_type": "markdown",
   "id": "d22d42eb",
   "metadata": {},
   "source": [
    "### **`while`循环**\n",
    "```julia\n",
    "while 表达式\n",
    "    语句\n",
    "end\n",
    "```"
   ]
  },
  {
   "cell_type": "markdown",
   "id": "e8e9ff39",
   "metadata": {},
   "source": [
    "在`julia`中没有`do...while`语句。"
   ]
  },
  {
   "cell_type": "markdown",
   "id": "10ded80b",
   "metadata": {},
   "source": [
    "### **`for`循环**\n",
    "```julia\n",
    "for 迭代变量 in 可迭代对象\n",
    "    语句\n",
    "end\n",
    "```"
   ]
  },
  {
   "cell_type": "markdown",
   "id": "0e6b626e",
   "metadata": {},
   "source": [
    "可迭代对象包含：字符串、序列、数组、迭代器等。"
   ]
  },
  {
   "cell_type": "markdown",
   "id": "3a63196a",
   "metadata": {},
   "source": [
    "### **`for`循环中的`range()`函数**\n",
    "```julia\n",
    "range(start, stop[, step])\n",
    "```"
   ]
  },
  {
   "cell_type": "markdown",
   "id": "d339b6ae",
   "metadata": {},
   "source": [
    "### **`break`和`continue`语句**\n",
    "  - 使用`break`语句可以跳出`while`或`for`的本层循环。\n",
    "  - 使用`continue`语句可以跳出当前迭代并继续到下一迭代。"
   ]
  },
  {
   "cell_type": "markdown",
   "id": "f4fbf69f",
   "metadata": {},
   "source": [
    "# 5、函数与模块"
   ]
  },
  {
   "cell_type": "markdown",
   "id": "c51be2a5",
   "metadata": {},
   "source": [
    "## 5-1、内置函数"
   ]
  },
  {
   "cell_type": "markdown",
   "id": "ec9d5cad",
   "metadata": {},
   "source": [
    "### **基本内置函数**\n",
    "  | 函数 | 意义 |\n",
    "  | - | - |\n",
    "  | `println()` | 打印（结束自动换行） |\n",
    "  | `readline()` | 读取一行 |\n",
    "  | `readlines()` | 读取所有行成为一个数组 |"
   ]
  },
  {
   "cell_type": "markdown",
   "id": "bf8f1abc",
   "metadata": {},
   "source": [
    "### **数学函数**\n",
    "  | 数学函数 | 意义（返回值） |\n",
    "  | - | - |\n",
    "  | `round(x)` | 返回数字的四舍五入值，如`round(4.7)`返回5 |\n",
    "  | `floor(x)` | 返回数字的下舍整数，如`floor(4.9)`返回4 |\n",
    "  | `ceil(x)` | 返回数字的上入整数，如`ceil(4.1)`返回5 |\n",
    "  | `trunc(x)` | 返回数字的向0整数，如`ceil(2.3)`返回2 |\n",
    "  | `gcd(x,y...)` | 返回x,y,...的最大公约数 |\n",
    "  | `lcm(x,y...)` | 返回x,y,...的最小公倍数 |\n",
    "  | `cos(x)` | 返回x弧度的余弦值 |\n",
    "  | `sin(x)` | 返回x弧度的正弦值 |\n",
    "  | `abs(x)` | 返回数字的绝对值 |\n",
    "  | `sign(x)` | 返回数学符号，即-1，0，1 |\n",
    "  | `sqrt(x)` | 返回x的平方根 |\n",
    "  | `cbrt(x)` | 返回x的立方根 |\n",
    "  | `exp(x)` | 返回e的x次幂 |\n",
    "  | `Log(b,x)` | 返回以b为基数的x的对数 |\n",
    "  | `max(x1, x2, ...)` | 返回参数或序列的最大值 |\n",
    "  | `min(x1, x2, ...)` | 返回参数或序列的最小值 |"
   ]
  },
  {
   "cell_type": "markdown",
   "id": "d9cc5207",
   "metadata": {},
   "source": [
    "### **随机函数**\n",
    "  | 随机函数 | 意义（返回值） |\n",
    "  | - | - |\n",
    "  | `rand()` | 随机产生0～1的浮点数，可指定行、列数，产生**均匀分布**数 |\n",
    "  | `randn()` | 随机产生0～1的浮点数，可指定行、列数，产生**正态分布**数 |"
   ]
  },
  {
   "cell_type": "markdown",
   "id": "273a1b1e",
   "metadata": {},
   "source": [
    "### **字符函数**\n",
    "  | 字符函数 | 意义 |\n",
    "  | - | - |\n",
    "  | `Char()` | 将数字转换为字符 |\n",
    "  | `Int()` | 将字符转换为数字 |"
   ]
  },
  {
   "cell_type": "markdown",
   "id": "adcc2f69",
   "metadata": {},
   "source": [
    "### **字符串函数**\n",
    "  | 字符串函数 | 意义 |\n",
    "  | - | - |\n",
    "  | `SubString(string,start,end)` | 截取字符串中的一部分 |\n",
    "  | `length(string)` | 获取字符串长度 |\n",
    "  | `string(a,b)` | 连接字符串a和b |\n",
    "  | `occursion(str,string)` | 判断字符或字符串str是否在字符串string中，是则返回True，否则返回False |"
   ]
  },
  {
   "cell_type": "markdown",
   "id": "358b37ee",
   "metadata": {},
   "source": [
    "## 5-2、自定义函数"
   ]
  },
  {
   "cell_type": "markdown",
   "id": "5584d84c",
   "metadata": {},
   "source": [
    "### **`julia`自定义函数的规则**：\n",
    "  - 函数代码块以`function`关键词开头，后接函数标识符名称和圆括号`()`；\n",
    "  - 任何传入参数和自变量必须放在圆括号中；\n",
    "  - 函数返回值默认最后一个表达式的值，若不想有返回值，则在最后一行加`nothing`；\n",
    "  - 一旦运行`return`语句，其后的语句不再运行；\n",
    "  - 函数结束的标志为`end`。\n",
    "  ```julia\n",
    "  function 函数名 (参数列表)\n",
    "      函数体\n",
    "  end\n",
    "  ```\n",
    "  - 函数定义时可指定其参数类型。\n",
    "  ```julia\n",
    "  function ff(x:Int8)\n",
    "      x + 1\n",
    "  end\n",
    "  ```"
   ]
  },
  {
   "cell_type": "markdown",
   "id": "4e7f510d",
   "metadata": {},
   "source": [
    "### **函数调用**\n",
    "若如下函数内容写在`julia_test_5_2.jl`中，\n",
    "```julia\n",
    "function f(x,y)\n",
    "    if x > 0\n",
    "        return (x-y)\n",
    "    elseif x < 0\n",
    "        return (x+y)\n",
    "    else \n",
    "        return x*y\n",
    "    end\n",
    "end\n",
    "```\n",
    "则通过`include(\"julia_test_5_2.jl\")`可调用该函数。"
   ]
  },
  {
   "cell_type": "markdown",
   "id": "0d6a5d1c",
   "metadata": {},
   "source": [
    "## 5-3、方法"
   ]
  },
  {
   "cell_type": "markdown",
   "id": "c198e48a",
   "metadata": {},
   "source": [
    "### 同样的函数，可以有不同的方法，比如加法函数可以实现整数加法，浮点数加法和复数加法等。"
   ]
  },
  {
   "cell_type": "code",
   "execution_count": 24,
   "id": "b58ea691",
   "metadata": {},
   "outputs": [
    {
     "data": {
      "text/plain": [
       "f_plus (generic function with 1 method)"
      ]
     },
     "execution_count": 24,
     "metadata": {},
     "output_type": "execute_result"
    }
   ],
   "source": [
    "function f_plus(x::Int64, y::Int64)\n",
    "    x + y\n",
    "end"
   ]
  },
  {
   "cell_type": "code",
   "execution_count": 25,
   "id": "812711ad",
   "metadata": {},
   "outputs": [
    {
     "data": {
      "text/plain": [
       "f_plus (generic function with 2 methods)"
      ]
     },
     "execution_count": 25,
     "metadata": {},
     "output_type": "execute_result"
    }
   ],
   "source": [
    "function f_plus(x::Float64, y::Float64)\n",
    "    x + y\n",
    "end"
   ]
  },
  {
   "cell_type": "markdown",
   "id": "1abcf232",
   "metadata": {},
   "source": [
    "此时执行`f_plus(2, 3)`编译器会自动选择更加专用的方法来执行（此处为第一个方法）。"
   ]
  },
  {
   "cell_type": "code",
   "execution_count": 26,
   "id": "6544e694",
   "metadata": {},
   "outputs": [
    {
     "data": {
      "text/plain": [
       "5"
      ]
     },
     "execution_count": 26,
     "metadata": {},
     "output_type": "execute_result"
    }
   ],
   "source": [
    "f_plus(2, 3)"
   ]
  },
  {
   "cell_type": "markdown",
   "id": "e22b23ce",
   "metadata": {},
   "source": [
    "## 5-4、模块\n",
    "模块是一个包含所有定义的函数和变量的文件。"
   ]
  },
  {
   "cell_type": "markdown",
   "id": "4978b4e1",
   "metadata": {},
   "source": [
    "### **模块定义**\n",
    "```julia\n",
    "module my_module1\n",
    "    export my2\n",
    "      \n",
    "    function my1()\n",
    "        println(\"Good !!!\")\n",
    "    end\n",
    "      \n",
    "    function my2(name)\n",
    "        println(\"My name is \", name)\n",
    "    end\n",
    "end\n",
    "```"
   ]
  },
  {
   "cell_type": "markdown",
   "id": "55479b0c",
   "metadata": {},
   "source": [
    "### **模块调用**\n",
    "```julia\n",
    "using my_module1\n",
    "```"
   ]
  },
  {
   "cell_type": "markdown",
   "id": "962b2bff",
   "metadata": {},
   "source": [
    "# 6、特征数据类型"
   ]
  },
  {
   "cell_type": "markdown",
   "id": "45ffa4db",
   "metadata": {},
   "source": [
    "## 6-1、数组"
   ]
  },
  {
   "cell_type": "markdown",
   "id": "c763cbfe",
   "metadata": {},
   "source": [
    "### **创建数组**"
   ]
  },
  {
   "cell_type": "code",
   "execution_count": 27,
   "id": "cdfc1ed0",
   "metadata": {},
   "outputs": [
    {
     "data": {
      "text/plain": [
       "4-element Vector{Int64}:\n",
       " 1\n",
       " 3\n",
       " 5\n",
       " 7"
      ]
     },
     "execution_count": 27,
     "metadata": {},
     "output_type": "execute_result"
    }
   ],
   "source": [
    "array1 = [1, 3, 5, 7]"
   ]
  },
  {
   "cell_type": "markdown",
   "id": "82e2ef5a",
   "metadata": {},
   "source": [
    "### **修改数组**"
   ]
  },
  {
   "cell_type": "code",
   "execution_count": 28,
   "id": "b3fe3fb1",
   "metadata": {},
   "outputs": [
    {
     "data": {
      "text/plain": [
       "10"
      ]
     },
     "execution_count": 28,
     "metadata": {},
     "output_type": "execute_result"
    }
   ],
   "source": [
    "array1[2] = 10"
   ]
  },
  {
   "cell_type": "markdown",
   "id": "02ca6208",
   "metadata": {},
   "source": [
    "使用`push!(array1, 20)`可在数组后添加新数组项："
   ]
  },
  {
   "cell_type": "code",
   "execution_count": 29,
   "id": "d3d0aeaa",
   "metadata": {},
   "outputs": [
    {
     "data": {
      "text/plain": [
       "5-element Vector{Int64}:\n",
       "  1\n",
       " 10\n",
       "  5\n",
       "  7\n",
       " 20"
      ]
     },
     "execution_count": 29,
     "metadata": {},
     "output_type": "execute_result"
    }
   ],
   "source": [
    "push!(array1, 20)"
   ]
  },
  {
   "cell_type": "markdown",
   "id": "53f64ee5",
   "metadata": {},
   "source": [
    "### **删除数组** "
   ]
  },
  {
   "cell_type": "markdown",
   "id": "d5d51cf3",
   "metadata": {},
   "source": [
    "使用`deleteat!(array1, 3)`可删除数组的第三个数字。"
   ]
  },
  {
   "cell_type": "code",
   "execution_count": 30,
   "id": "6288b969",
   "metadata": {},
   "outputs": [
    {
     "data": {
      "text/plain": [
       "4-element Vector{Int64}:\n",
       "  1\n",
       " 10\n",
       "  7\n",
       " 20"
      ]
     },
     "execution_count": 30,
     "metadata": {},
     "output_type": "execute_result"
    }
   ],
   "source": [
    "deleteat!(array1, 3)"
   ]
  },
  {
   "cell_type": "markdown",
   "id": "528f2f1d",
   "metadata": {},
   "source": [
    "## 6-2、元组"
   ]
  },
  {
   "cell_type": "markdown",
   "id": "a8fe9117",
   "metadata": {},
   "source": [
    "### **定义元组**"
   ]
  },
  {
   "cell_type": "code",
   "execution_count": 31,
   "id": "7e809227",
   "metadata": {},
   "outputs": [
    {
     "data": {
      "text/plain": [
       "(1, 2, 3)"
      ]
     },
     "execution_count": 31,
     "metadata": {},
     "output_type": "execute_result"
    }
   ],
   "source": [
    "tup1 = (1, 2, 3)  # 当元组仅含一个元素时，需在元素后添加逗号"
   ]
  },
  {
   "cell_type": "code",
   "execution_count": 32,
   "id": "1622c81a",
   "metadata": {},
   "outputs": [
    {
     "data": {
      "text/plain": [
       "()"
      ]
     },
     "execution_count": 32,
     "metadata": {},
     "output_type": "execute_result"
    }
   ],
   "source": [
    "tup2 = ()         # 定义空元组"
   ]
  },
  {
   "cell_type": "markdown",
   "id": "7ffae67c",
   "metadata": {},
   "source": [
    "## 6-3、字典"
   ]
  },
  {
   "cell_type": "markdown",
   "id": "f965f69d",
   "metadata": {},
   "source": [
    "### **定义字典**"
   ]
  },
  {
   "cell_type": "code",
   "execution_count": 33,
   "id": "05a8c3f9",
   "metadata": {},
   "outputs": [
    {
     "data": {
      "text/plain": [
       "Dict{String, String} with 2 entries:\n",
       "  \"name\" => \"zhang\"\n",
       "  \"age\"  => \"10\""
      ]
     },
     "execution_count": 33,
     "metadata": {},
     "output_type": "execute_result"
    }
   ],
   "source": [
    "dict1 = Dict(\"name\"=>\"zhang\", \"age\"=>\"10\")"
   ]
  },
  {
   "cell_type": "markdown",
   "id": "3c2884a0",
   "metadata": {},
   "source": [
    "### **访问字典的值和键**"
   ]
  },
  {
   "cell_type": "code",
   "execution_count": 34,
   "id": "3f48eefe",
   "metadata": {},
   "outputs": [
    {
     "name": "stdout",
     "output_type": "stream",
     "text": [
      "Name: zhang\n"
     ]
    }
   ],
   "source": [
    "println(\"Name: \", dict1[\"name\"])"
   ]
  },
  {
   "cell_type": "markdown",
   "id": "dd5fc5f2",
   "metadata": {},
   "source": [
    "### **修改字典**"
   ]
  },
  {
   "cell_type": "code",
   "execution_count": 35,
   "id": "653edeb2",
   "metadata": {},
   "outputs": [
    {
     "data": {
      "text/plain": [
       "\"20\""
      ]
     },
     "execution_count": 35,
     "metadata": {},
     "output_type": "execute_result"
    }
   ],
   "source": [
    "dict1[\"age\"] = \"20\""
   ]
  },
  {
   "cell_type": "markdown",
   "id": "f1d2f4bb",
   "metadata": {},
   "source": [
    "## 6-4、集合"
   ]
  },
  {
   "cell_type": "markdown",
   "id": "c8e333f8",
   "metadata": {},
   "source": [
    "### **定义集合**"
   ]
  },
  {
   "cell_type": "code",
   "execution_count": 36,
   "id": "a9bd1790",
   "metadata": {},
   "outputs": [
    {
     "data": {
      "text/plain": [
       "Set{Int64} with 3 elements:\n",
       "  2\n",
       "  3\n",
       "  1"
      ]
     },
     "execution_count": 36,
     "metadata": {},
     "output_type": "execute_result"
    }
   ],
   "source": [
    "a = Set([1, 2, 3])"
   ]
  },
  {
   "cell_type": "code",
   "execution_count": 37,
   "id": "ec5f7218",
   "metadata": {},
   "outputs": [
    {
     "data": {
      "text/plain": [
       "Set{Any}()"
      ]
     },
     "execution_count": 37,
     "metadata": {},
     "output_type": "execute_result"
    }
   ],
   "source": [
    "a = Set()          # 创建空集合"
   ]
  },
  {
   "cell_type": "markdown",
   "id": "17db8775",
   "metadata": {},
   "source": [
    "# 7、矩阵操作"
   ]
  },
  {
   "cell_type": "markdown",
   "id": "5db89633",
   "metadata": {},
   "source": [
    "## 7-1、矩阵的创建与索引"
   ]
  },
  {
   "cell_type": "markdown",
   "id": "5bd4ed3d",
   "metadata": {},
   "source": [
    "### **创建矩阵**"
   ]
  },
  {
   "cell_type": "code",
   "execution_count": 38,
   "id": "371bded3",
   "metadata": {},
   "outputs": [
    {
     "data": {
      "text/plain": [
       "2×3 Matrix{Int64}:\n",
       " 1  2  3\n",
       " 4  5  6"
      ]
     },
     "execution_count": 38,
     "metadata": {},
     "output_type": "execute_result"
    }
   ],
   "source": [
    "matrix1 = [1 2 3; 4 5 6]"
   ]
  },
  {
   "cell_type": "code",
   "execution_count": 39,
   "id": "ac7c9de0",
   "metadata": {},
   "outputs": [
    {
     "data": {
      "text/plain": [
       "3×4 Matrix{Int64}:\n",
       " 10  5   9  5\n",
       "  7  8   9  5\n",
       "  4  6  10  4"
      ]
     },
     "execution_count": 39,
     "metadata": {},
     "output_type": "execute_result"
    }
   ],
   "source": [
    "matrix2 = rand(1:10, 3, 4)  # 创建3×4的随机矩阵"
   ]
  },
  {
   "cell_type": "code",
   "execution_count": 40,
   "id": "95667b78",
   "metadata": {},
   "outputs": [
    {
     "data": {
      "text/plain": [
       "4×5 Matrix{Float64}:\n",
       " 1.0  1.0  1.0  1.0  1.0\n",
       " 1.0  1.0  1.0  1.0  1.0\n",
       " 1.0  1.0  1.0  1.0  1.0\n",
       " 1.0  1.0  1.0  1.0  1.0"
      ]
     },
     "execution_count": 40,
     "metadata": {},
     "output_type": "execute_result"
    }
   ],
   "source": [
    "matrix3 = ones(4, 5)        # 创建全1矩阵"
   ]
  },
  {
   "cell_type": "code",
   "execution_count": 41,
   "id": "cee48ad1",
   "metadata": {},
   "outputs": [
    {
     "data": {
      "text/plain": [
       "5×6 Matrix{Float64}:\n",
       " 0.0  0.0  0.0  0.0  0.0  0.0\n",
       " 0.0  0.0  0.0  0.0  0.0  0.0\n",
       " 0.0  0.0  0.0  0.0  0.0  0.0\n",
       " 0.0  0.0  0.0  0.0  0.0  0.0\n",
       " 0.0  0.0  0.0  0.0  0.0  0.0"
      ]
     },
     "execution_count": 41,
     "metadata": {},
     "output_type": "execute_result"
    }
   ],
   "source": [
    "matrix4 = zeros(5, 6)       # 创建全0矩阵"
   ]
  },
  {
   "cell_type": "markdown",
   "id": "82f46de7",
   "metadata": {},
   "source": [
    "## 7-2、矩阵的拼接"
   ]
  },
  {
   "cell_type": "markdown",
   "id": "143c01cd",
   "metadata": {},
   "source": [
    "### **横向拼接**"
   ]
  },
  {
   "cell_type": "code",
   "execution_count": 42,
   "id": "baeaa667",
   "metadata": {},
   "outputs": [
    {
     "data": {
      "text/plain": [
       "3×2 Matrix{Float64}:\n",
       " 0.0  0.0\n",
       " 0.0  0.0\n",
       " 0.0  0.0"
      ]
     },
     "execution_count": 42,
     "metadata": {},
     "output_type": "execute_result"
    }
   ],
   "source": [
    "a = ones(3, 2)\n",
    "b = zeros(3, 2)"
   ]
  },
  {
   "cell_type": "code",
   "execution_count": 43,
   "id": "6afacdb2",
   "metadata": {},
   "outputs": [
    {
     "data": {
      "text/plain": [
       "3×4 Matrix{Float64}:\n",
       " 1.0  1.0  0.0  0.0\n",
       " 1.0  1.0  0.0  0.0\n",
       " 1.0  1.0  0.0  0.0"
      ]
     },
     "execution_count": 43,
     "metadata": {},
     "output_type": "execute_result"
    }
   ],
   "source": [
    "c = [a b]"
   ]
  },
  {
   "cell_type": "code",
   "execution_count": 44,
   "id": "99eea08f",
   "metadata": {},
   "outputs": [
    {
     "data": {
      "text/plain": [
       "3×4 Matrix{Float64}:\n",
       " 1.0  1.0  0.0  0.0\n",
       " 1.0  1.0  0.0  0.0\n",
       " 1.0  1.0  0.0  0.0"
      ]
     },
     "execution_count": 44,
     "metadata": {},
     "output_type": "execute_result"
    }
   ],
   "source": [
    "d = hcat([a, b]...)"
   ]
  },
  {
   "cell_type": "markdown",
   "id": "d318f766",
   "metadata": {},
   "source": [
    "### **纵向拼接**"
   ]
  },
  {
   "cell_type": "code",
   "execution_count": 45,
   "id": "70394738",
   "metadata": {},
   "outputs": [
    {
     "data": {
      "text/plain": [
       "3×2 Matrix{Float64}:\n",
       " 0.0  0.0\n",
       " 0.0  0.0\n",
       " 0.0  0.0"
      ]
     },
     "execution_count": 45,
     "metadata": {},
     "output_type": "execute_result"
    }
   ],
   "source": [
    "a = ones(3, 2)\n",
    "b = zeros(3, 2)"
   ]
  },
  {
   "cell_type": "code",
   "execution_count": 46,
   "id": "e70ad2b2",
   "metadata": {},
   "outputs": [
    {
     "data": {
      "text/plain": [
       "6×2 Matrix{Float64}:\n",
       " 1.0  1.0\n",
       " 1.0  1.0\n",
       " 1.0  1.0\n",
       " 0.0  0.0\n",
       " 0.0  0.0\n",
       " 0.0  0.0"
      ]
     },
     "execution_count": 46,
     "metadata": {},
     "output_type": "execute_result"
    }
   ],
   "source": [
    "c = [a; b]"
   ]
  },
  {
   "cell_type": "code",
   "execution_count": 47,
   "id": "2163628a",
   "metadata": {},
   "outputs": [
    {
     "data": {
      "text/plain": [
       "6×2 Matrix{Float64}:\n",
       " 1.0  1.0\n",
       " 1.0  1.0\n",
       " 1.0  1.0\n",
       " 0.0  0.0\n",
       " 0.0  0.0\n",
       " 0.0  0.0"
      ]
     },
     "execution_count": 47,
     "metadata": {},
     "output_type": "execute_result"
    }
   ],
   "source": [
    "c = vcat([a, b]...)"
   ]
  },
  {
   "cell_type": "markdown",
   "id": "4539ac57",
   "metadata": {},
   "source": [
    "## 7-3、矩阵的运算"
   ]
  },
  {
   "cell_type": "markdown",
   "id": "9475011a",
   "metadata": {},
   "source": [
    "### **矩阵加法、矩阵减法**"
   ]
  },
  {
   "cell_type": "code",
   "execution_count": 48,
   "id": "3fd6a8ad",
   "metadata": {},
   "outputs": [
    {
     "data": {
      "text/plain": [
       "2×3 Matrix{Float64}:\n",
       " 0.0198341  0.741932  0.0751206\n",
       " 0.89767    0.917886  0.113431"
      ]
     },
     "execution_count": 48,
     "metadata": {},
     "output_type": "execute_result"
    }
   ],
   "source": [
    "A = rand(2, 3)"
   ]
  },
  {
   "cell_type": "code",
   "execution_count": 49,
   "id": "e0880bb1",
   "metadata": {},
   "outputs": [
    {
     "data": {
      "text/plain": [
       "2×3 Matrix{Float64}:\n",
       " 0.373695  0.92275  0.54308\n",
       " 0.353834  0.31845  0.990784"
      ]
     },
     "execution_count": 49,
     "metadata": {},
     "output_type": "execute_result"
    }
   ],
   "source": [
    "B = rand(2, 3)"
   ]
  },
  {
   "cell_type": "code",
   "execution_count": 50,
   "id": "cc57e4b3",
   "metadata": {},
   "outputs": [
    {
     "data": {
      "text/plain": [
       "2×3 Matrix{Float64}:\n",
       " 0.393529  1.66468  0.618201\n",
       " 1.2515    1.23634  1.10422"
      ]
     },
     "execution_count": 50,
     "metadata": {},
     "output_type": "execute_result"
    }
   ],
   "source": [
    "C = A + B"
   ]
  },
  {
   "cell_type": "code",
   "execution_count": 51,
   "id": "8a0862e0",
   "metadata": {},
   "outputs": [
    {
     "data": {
      "text/plain": [
       "2×3 Matrix{Float64}:\n",
       " -0.353861  -0.180819  -0.467959\n",
       "  0.543836   0.599436  -0.877354"
      ]
     },
     "execution_count": 51,
     "metadata": {},
     "output_type": "execute_result"
    }
   ],
   "source": [
    "D = A - B"
   ]
  },
  {
   "cell_type": "markdown",
   "id": "382e0e55",
   "metadata": {},
   "source": [
    "### **矩阵转置**"
   ]
  },
  {
   "cell_type": "code",
   "execution_count": 52,
   "id": "81d4dc44",
   "metadata": {},
   "outputs": [
    {
     "data": {
      "text/plain": [
       "2×3 Matrix{Float64}:\n",
       " 0.734072  0.835642  0.670462\n",
       " 0.725584  0.627753  0.109967"
      ]
     },
     "execution_count": 52,
     "metadata": {},
     "output_type": "execute_result"
    }
   ],
   "source": [
    "A = rand(2, 3)"
   ]
  },
  {
   "cell_type": "code",
   "execution_count": 53,
   "id": "0ca95f0d",
   "metadata": {},
   "outputs": [
    {
     "data": {
      "text/plain": [
       "3×2 adjoint(::Matrix{Float64}) with eltype Float64:\n",
       " 0.734072  0.725584\n",
       " 0.835642  0.627753\n",
       " 0.670462  0.109967"
      ]
     },
     "execution_count": 53,
     "metadata": {},
     "output_type": "execute_result"
    }
   ],
   "source": [
    "B = A'"
   ]
  },
  {
   "cell_type": "markdown",
   "id": "765cd689",
   "metadata": {},
   "source": [
    "### **矩阵数乘**"
   ]
  },
  {
   "cell_type": "code",
   "execution_count": 54,
   "id": "8f8e550a",
   "metadata": {},
   "outputs": [
    {
     "data": {
      "text/plain": [
       "2×3 Matrix{Float64}:\n",
       " 0.467367  0.563807  0.618204\n",
       " 0.527446  0.952457  0.768254"
      ]
     },
     "execution_count": 54,
     "metadata": {},
     "output_type": "execute_result"
    }
   ],
   "source": [
    "A = rand(2, 3)"
   ]
  },
  {
   "cell_type": "code",
   "execution_count": 55,
   "id": "81925059",
   "metadata": {},
   "outputs": [
    {
     "data": {
      "text/plain": [
       "2×3 Matrix{Float64}:\n",
       " 1.4021   1.69142  1.85461\n",
       " 1.58234  2.85737  2.30476"
      ]
     },
     "execution_count": 55,
     "metadata": {},
     "output_type": "execute_result"
    }
   ],
   "source": [
    "B = 3 * A"
   ]
  },
  {
   "cell_type": "markdown",
   "id": "3f7b31d1",
   "metadata": {},
   "source": [
    "### **矩阵乘法**"
   ]
  },
  {
   "cell_type": "code",
   "execution_count": 56,
   "id": "64246778",
   "metadata": {},
   "outputs": [
    {
     "data": {
      "text/plain": [
       "2×3 Matrix{Float64}:\n",
       " 0.286464  0.660637  0.891808\n",
       " 0.516685  0.147275  0.274642"
      ]
     },
     "execution_count": 56,
     "metadata": {},
     "output_type": "execute_result"
    }
   ],
   "source": [
    "A = rand(2, 3)"
   ]
  },
  {
   "cell_type": "code",
   "execution_count": 57,
   "id": "15fd7d14",
   "metadata": {},
   "outputs": [
    {
     "data": {
      "text/plain": [
       "3×4 Matrix{Float64}:\n",
       " 0.495494  0.210479   0.618469  0.0826253\n",
       " 0.491785  0.0497472  0.209104  0.15666\n",
       " 0.601752  0.568545   0.580213  0.612254"
      ]
     },
     "execution_count": 57,
     "metadata": {},
     "output_type": "execute_result"
    }
   ],
   "source": [
    "B = rand(3, 4)"
   ]
  },
  {
   "cell_type": "code",
   "execution_count": 58,
   "id": "034d914d",
   "metadata": {},
   "outputs": [
    {
     "data": {
      "text/plain": [
       "2×4 Matrix{Float64}:\n",
       " 1.00348   0.600193  0.832749  0.673178\n",
       " 0.493708  0.272224  0.5097    0.233914"
      ]
     },
     "execution_count": 58,
     "metadata": {},
     "output_type": "execute_result"
    }
   ],
   "source": [
    "C = A * B"
   ]
  },
  {
   "cell_type": "markdown",
   "id": "bb4cbffa",
   "metadata": {},
   "source": [
    "## 7-4、矩阵的函数应用"
   ]
  },
  {
   "cell_type": "markdown",
   "id": "75d27efe",
   "metadata": {},
   "source": [
    "### **矩阵的基本函数**\n",
    "- `typeof()`：矩阵的类型。\n",
    "- `eltype()`：矩阵中元素的类型。\n",
    "- `length()`：矩阵中元素的个数。\n",
    "- `ndims()`：矩阵的维度。\n",
    "- `size()`：矩阵的行数和列数。"
   ]
  },
  {
   "cell_type": "markdown",
   "id": "282581c4",
   "metadata": {},
   "source": [
    "### **矩阵的其它创建函数**"
   ]
  },
  {
   "cell_type": "code",
   "execution_count": 59,
   "id": "bcabc1e8",
   "metadata": {},
   "outputs": [
    {
     "data": {
      "text/plain": [
       "3×4 BitMatrix:\n",
       " 1  1  1  1\n",
       " 1  1  1  1\n",
       " 1  1  1  1"
      ]
     },
     "execution_count": 59,
     "metadata": {},
     "output_type": "execute_result"
    }
   ],
   "source": [
    "a = trues(3, 4)       # 创建3×4的元素全true的矩阵"
   ]
  },
  {
   "cell_type": "code",
   "execution_count": 60,
   "id": "f7b31733",
   "metadata": {},
   "outputs": [
    {
     "data": {
      "text/plain": [
       "3×4 BitMatrix:\n",
       " 0  0  0  0\n",
       " 0  0  0  0\n",
       " 0  0  0  0"
      ]
     },
     "execution_count": 60,
     "metadata": {},
     "output_type": "execute_result"
    }
   ],
   "source": [
    "b = falses(3, 4)      # 创建3×4的元素全false的矩阵"
   ]
  },
  {
   "cell_type": "code",
   "execution_count": 61,
   "id": "f02ba00c",
   "metadata": {},
   "outputs": [
    {
     "data": {
      "text/plain": [
       "4×3 BitMatrix:\n",
       " 1  1  1\n",
       " 1  1  1\n",
       " 1  1  1\n",
       " 1  1  1"
      ]
     },
     "execution_count": 61,
     "metadata": {},
     "output_type": "execute_result"
    }
   ],
   "source": [
    "c = reshape(a, 4, 3)  # 重新设置矩阵大小为4×3"
   ]
  },
  {
   "cell_type": "code",
   "execution_count": 62,
   "id": "ad2cfda5",
   "metadata": {},
   "outputs": [
    {
     "data": {
      "text/plain": [
       "3×4 BitMatrix:\n",
       " 0  0  0  0\n",
       " 0  0  0  0\n",
       " 0  0  0  0"
      ]
     },
     "execution_count": 62,
     "metadata": {},
     "output_type": "execute_result"
    }
   ],
   "source": [
    "d = copy(b)           # 复制矩阵"
   ]
  },
  {
   "cell_type": "markdown",
   "id": "ec033cd8",
   "metadata": {},
   "source": [
    "### **矩阵的函数运算**"
   ]
  },
  {
   "cell_type": "code",
   "execution_count": 63,
   "id": "7e69c86e",
   "metadata": {},
   "outputs": [
    {
     "data": {
      "text/plain": [
       "6×4 Matrix{Float64}:\n",
       "  1.59977    -0.147444    1.76478     0.471064\n",
       " -1.53699     1.0058      0.355329   -0.892835\n",
       " -1.34238    -1.51487    -0.399278   -0.131479\n",
       "  0.906762   -0.0864909  -0.0580411  -0.274727\n",
       "  0.0250496  -1.05722     0.748254    0.927559\n",
       " -0.140716    0.422617    0.99604    -1.31271"
      ]
     },
     "execution_count": 63,
     "metadata": {},
     "output_type": "execute_result"
    }
   ],
   "source": [
    "x1 = randn(6, 4)    # 创建一个正态分布矩阵"
   ]
  },
  {
   "cell_type": "code",
   "execution_count": 64,
   "id": "697efb65",
   "metadata": {},
   "outputs": [
    {
     "data": {
      "text/plain": [
       "6×4 Matrix{Float64}:\n",
       "  2.0  -0.0   2.0   0.0\n",
       " -2.0   1.0   0.0  -1.0\n",
       " -1.0  -2.0  -0.0  -0.0\n",
       "  1.0  -0.0  -0.0  -0.0\n",
       "  0.0  -1.0   1.0   1.0\n",
       " -0.0   0.0   1.0  -1.0"
      ]
     },
     "execution_count": 64,
     "metadata": {},
     "output_type": "execute_result"
    }
   ],
   "source": [
    "x2 = round.(x1)     # 对矩阵x1进行四舍五入运算，round与()之间加一个.表示对矩阵进行操作"
   ]
  },
  {
   "cell_type": "code",
   "execution_count": 65,
   "id": "f7b542cc",
   "metadata": {},
   "outputs": [
    {
     "data": {
      "text/plain": [
       "6×4 Matrix{Float64}:\n",
       " 1.59977    0.147444   1.76478    0.471064\n",
       " 1.53699    1.0058     0.355329   0.892835\n",
       " 1.34238    1.51487    0.399278   0.131479\n",
       " 0.906762   0.0864909  0.0580411  0.274727\n",
       " 0.0250496  1.05722    0.748254   0.927559\n",
       " 0.140716   0.422617   0.99604    1.31271"
      ]
     },
     "execution_count": 65,
     "metadata": {},
     "output_type": "execute_result"
    }
   ],
   "source": [
    "x3 = abs.(x1)       # 对矩阵x1取绝对值"
   ]
  },
  {
   "cell_type": "code",
   "execution_count": 66,
   "id": "ad303fe1",
   "metadata": {},
   "outputs": [
    {
     "data": {
      "text/plain": [
       "6×4 Matrix{Float64}:\n",
       " 1.26482   0.383985  1.32845   0.686341\n",
       " 1.23975   1.00289   0.596095  0.9449\n",
       " 1.15861   1.2308    0.631885  0.3626\n",
       " 0.95224   0.294093  0.240917  0.524144\n",
       " 0.158271  1.02821   0.865017  0.963099\n",
       " 0.375121  0.65009   0.998018  1.14574"
      ]
     },
     "execution_count": 66,
     "metadata": {},
     "output_type": "execute_result"
    }
   ],
   "source": [
    "x4 = sqrt.(x3)      # 对矩阵x3取平方根"
   ]
  },
  {
   "cell_type": "code",
   "execution_count": 67,
   "id": "cc17c8ab",
   "metadata": {},
   "outputs": [
    {
     "data": {
      "text/plain": [
       "6×4 Matrix{Float64}:\n",
       "  0.99958   -0.146911    0.981244    0.453835\n",
       " -0.999429   0.844589    0.347899   -0.778853\n",
       " -0.974027  -0.998436   -0.388754   -0.1311\n",
       "  0.787512  -0.0863831  -0.0580085  -0.271284\n",
       "  0.025047  -0.870994    0.68036     0.800158\n",
       " -0.140252   0.410149    0.839325   -0.966881"
      ]
     },
     "execution_count": 67,
     "metadata": {},
     "output_type": "execute_result"
    }
   ],
   "source": [
    "x5 = sin.(x1)       # 对矩阵x1进行正弦运算"
   ]
  },
  {
   "cell_type": "markdown",
   "id": "9b5b6a6c",
   "metadata": {},
   "source": [
    "# 8、文件操作"
   ]
  },
  {
   "cell_type": "markdown",
   "id": "00a86719",
   "metadata": {},
   "source": [
    "## 8-1、文件的基本操作"
   ]
  },
  {
   "cell_type": "markdown",
   "id": "20613514",
   "metadata": {},
   "source": [
    "### **文件的创建**\n",
    "```julia\n",
    "open(filename, keyword)  # filename为创建的文件名，kerword为创建文件的关键字\n",
    "```\n",
    "\n",
    "  `kerword`的参数及意义：\n",
    "  - `w`：打开文件只用于写入。若文件已存在，则删除原有内容并从头开始编辑。\n",
    "  - `w+`：打开文件用于读写。若文件已存在，则删除原有内容并从头开始编辑。\n",
    "  - `a`：打开文件用于追加。若文件已存在，则新内容将会被写入到已有内容之后。\n",
    "  - `a+`：打开文件用于读写。若文件已存在，则新内容将会被写入到已有内容之后。\n",
    "  - `r`：打开文件只读。\n",
    "  - `r+`：打开文件用于读写。"
   ]
  },
  {
   "cell_type": "markdown",
   "id": "fc9470ae",
   "metadata": {},
   "source": [
    "### **写入文件内容**"
   ]
  },
  {
   "cell_type": "code",
   "execution_count": 68,
   "id": "c5296dc0",
   "metadata": {},
   "outputs": [],
   "source": [
    "txt = open(\"my_file.txt\", \"w\")\n",
    "write(txt, \"hello world!\\nhello ustc!!!\")\n",
    "close(txt)"
   ]
  },
  {
   "cell_type": "markdown",
   "id": "67c749e9",
   "metadata": {},
   "source": [
    "### **读取文件内容**"
   ]
  },
  {
   "cell_type": "code",
   "execution_count": 69,
   "id": "e12495d1",
   "metadata": {},
   "outputs": [
    {
     "data": {
      "text/plain": [
       "2-element Vector{String}:\n",
       " \"hello world!\"\n",
       " \"hello ustc!!!\""
      ]
     },
     "execution_count": 69,
     "metadata": {},
     "output_type": "execute_result"
    }
   ],
   "source": [
    "readlines(\"my_file.txt\")  # 读取打开文件中的所有内容"
   ]
  },
  {
   "cell_type": "code",
   "execution_count": 70,
   "id": "5d38c54b",
   "metadata": {},
   "outputs": [
    {
     "data": {
      "text/plain": [
       "\"hello world!\""
      ]
     },
     "execution_count": 70,
     "metadata": {},
     "output_type": "execute_result"
    }
   ],
   "source": [
    "readline(\"my_file.txt\")   # 读取打开文件的第一行"
   ]
  },
  {
   "cell_type": "code",
   "execution_count": 71,
   "id": "446b3255",
   "metadata": {},
   "outputs": [
    {
     "data": {
      "text/plain": [
       "'h': ASCII/Unicode U+0068 (category Ll: Letter, lowercase)"
      ]
     },
     "execution_count": 71,
     "metadata": {},
     "output_type": "execute_result"
    }
   ],
   "source": [
    "read(\"my_file.txt\", Char)"
   ]
  },
  {
   "cell_type": "code",
   "execution_count": 72,
   "id": "52ea0f9f",
   "metadata": {},
   "outputs": [
    {
     "data": {
      "text/plain": [
       "\"hello world!\\nhello ustc!!!\""
      ]
     },
     "execution_count": 72,
     "metadata": {},
     "output_type": "execute_result"
    }
   ],
   "source": [
    "read(\"my_file.txt\", String)"
   ]
  },
  {
   "cell_type": "markdown",
   "id": "501ebb97",
   "metadata": {},
   "source": [
    "## 8-2、文件中的矩阵操作"
   ]
  },
  {
   "cell_type": "markdown",
   "id": "b96b10ce",
   "metadata": {},
   "source": [
    "### **把矩阵写入文件**"
   ]
  },
  {
   "cell_type": "code",
   "execution_count": 73,
   "id": "ec87539b",
   "metadata": {},
   "outputs": [],
   "source": [
    "using DelimitedFiles\n",
    "matrix1 = rand(1:100, 10, 8)\n",
    "mya = open(\"my_matrix.txt\", \"w\")\n",
    "writedlm(mya, matrix1, \"\\t\")\n",
    "close(mya)"
   ]
  },
  {
   "cell_type": "markdown",
   "id": "6307cb27",
   "metadata": {},
   "source": [
    "### **从文件中读取矩阵内容**"
   ]
  },
  {
   "cell_type": "code",
   "execution_count": 74,
   "id": "a3e22c16",
   "metadata": {},
   "outputs": [
    {
     "data": {
      "text/plain": [
       "10×8 Matrix{Float64}:\n",
       " 17.0  18.0  32.0  59.0  50.0  43.0  34.0  33.0\n",
       " 96.0  30.0  32.0  57.0  13.0  74.0  59.0  85.0\n",
       " 75.0  21.0  34.0  87.0  16.0  37.0   7.0  32.0\n",
       " 44.0  97.0  62.0  82.0  84.0  68.0  62.0  36.0\n",
       " 45.0  62.0  65.0  72.0  80.0  93.0  42.0  69.0\n",
       " 47.0  97.0  35.0  93.0  88.0  32.0  24.0  28.0\n",
       " 26.0   9.0  91.0  74.0  81.0   8.0  20.0  54.0\n",
       " 17.0  68.0  66.0  14.0  40.0  49.0  17.0  42.0\n",
       " 32.0  30.0  85.0  36.0  33.0  39.0  29.0  89.0\n",
       " 64.0  32.0  23.0  15.0  40.0  83.0  55.0  86.0"
      ]
     },
     "execution_count": 74,
     "metadata": {},
     "output_type": "execute_result"
    }
   ],
   "source": [
    "using DelimitedFiles\n",
    "myb = open(\"my_matrix.txt\", \"r\")\n",
    "readdlm(myb)"
   ]
  },
  {
   "cell_type": "markdown",
   "id": "bc6bba88",
   "metadata": {},
   "source": [
    "# 9、Julia的日期和时间"
   ]
  },
  {
   "cell_type": "code",
   "execution_count": 75,
   "id": "1bfab58c",
   "metadata": {},
   "outputs": [],
   "source": [
    "using Dates"
   ]
  },
  {
   "cell_type": "markdown",
   "id": "3db56779",
   "metadata": {},
   "source": [
    "## 9-1、`Date()`函数"
   ]
  },
  {
   "cell_type": "markdown",
   "id": "8da16811",
   "metadata": {},
   "source": [
    "### **创建日期的方式**"
   ]
  },
  {
   "cell_type": "code",
   "execution_count": 76,
   "id": "8a017b22",
   "metadata": {},
   "outputs": [
    {
     "data": {
      "text/plain": [
       "2019-04-11"
      ]
     },
     "execution_count": 76,
     "metadata": {},
     "output_type": "execute_result"
    }
   ],
   "source": [
    "my_t = Date(2019,4,11)"
   ]
  },
  {
   "cell_type": "markdown",
   "id": "a8a87fc1",
   "metadata": {},
   "source": [
    "### **获取创建日期的年、月、日信息**"
   ]
  },
  {
   "cell_type": "code",
   "execution_count": 77,
   "id": "f0070a35",
   "metadata": {},
   "outputs": [
    {
     "data": {
      "text/plain": [
       "2019-04-11"
      ]
     },
     "execution_count": 77,
     "metadata": {},
     "output_type": "execute_result"
    }
   ],
   "source": [
    "t = Date(2019,4,11)"
   ]
  },
  {
   "cell_type": "code",
   "execution_count": 78,
   "id": "7502a972",
   "metadata": {},
   "outputs": [
    {
     "data": {
      "text/plain": [
       "2019"
      ]
     },
     "execution_count": 78,
     "metadata": {},
     "output_type": "execute_result"
    }
   ],
   "source": [
    "y = Dates.year(t)"
   ]
  },
  {
   "cell_type": "code",
   "execution_count": 79,
   "id": "df0a88ad",
   "metadata": {},
   "outputs": [
    {
     "data": {
      "text/plain": [
       "4"
      ]
     },
     "execution_count": 79,
     "metadata": {},
     "output_type": "execute_result"
    }
   ],
   "source": [
    "m = Dates.month(t)"
   ]
  },
  {
   "cell_type": "code",
   "execution_count": 80,
   "id": "a94eec29",
   "metadata": {},
   "outputs": [
    {
     "data": {
      "text/plain": [
       "11"
      ]
     },
     "execution_count": 80,
     "metadata": {},
     "output_type": "execute_result"
    }
   ],
   "source": [
    "d = Dates.day(t)"
   ]
  },
  {
   "cell_type": "code",
   "execution_count": 81,
   "id": "655e1ad5",
   "metadata": {},
   "outputs": [
    {
     "data": {
      "text/plain": [
       "(2019, 4)"
      ]
     },
     "execution_count": 81,
     "metadata": {},
     "output_type": "execute_result"
    }
   ],
   "source": [
    "ym = Dates.yearmonth(t)"
   ]
  },
  {
   "cell_type": "code",
   "execution_count": 82,
   "id": "ce935aef",
   "metadata": {},
   "outputs": [
    {
     "data": {
      "text/plain": [
       "(4, 11)"
      ]
     },
     "execution_count": 82,
     "metadata": {},
     "output_type": "execute_result"
    }
   ],
   "source": [
    "md = Dates.monthday(t)"
   ]
  },
  {
   "cell_type": "code",
   "execution_count": 83,
   "id": "cb8225ed",
   "metadata": {},
   "outputs": [
    {
     "data": {
      "text/plain": [
       "(2019, 4, 11)"
      ]
     },
     "execution_count": 83,
     "metadata": {},
     "output_type": "execute_result"
    }
   ],
   "source": [
    "ymd = Dates.yearmonthday(t)"
   ]
  },
  {
   "cell_type": "code",
   "execution_count": 84,
   "id": "26198a38",
   "metadata": {},
   "outputs": [
    {
     "data": {
      "text/plain": [
       "2019 years"
      ]
     },
     "execution_count": 84,
     "metadata": {},
     "output_type": "execute_result"
    }
   ],
   "source": [
    "Y = Dates.Year(t)"
   ]
  },
  {
   "cell_type": "code",
   "execution_count": 85,
   "id": "fd110247",
   "metadata": {},
   "outputs": [
    {
     "data": {
      "text/plain": [
       "4 months"
      ]
     },
     "execution_count": 85,
     "metadata": {},
     "output_type": "execute_result"
    }
   ],
   "source": [
    "M = Dates.Month(t)"
   ]
  },
  {
   "cell_type": "code",
   "execution_count": 86,
   "id": "64cd0cfa",
   "metadata": {},
   "outputs": [
    {
     "data": {
      "text/plain": [
       "11 days"
      ]
     },
     "execution_count": 86,
     "metadata": {},
     "output_type": "execute_result"
    }
   ],
   "source": [
    "D = Dates.Day(t)"
   ]
  },
  {
   "cell_type": "markdown",
   "id": "efc88228",
   "metadata": {},
   "source": [
    "### **获取星期几的信息**"
   ]
  },
  {
   "cell_type": "code",
   "execution_count": 87,
   "id": "8938ba93",
   "metadata": {},
   "outputs": [
    {
     "data": {
      "text/plain": [
       "2019-04-11"
      ]
     },
     "execution_count": 87,
     "metadata": {},
     "output_type": "execute_result"
    }
   ],
   "source": [
    "t = Date(2019,4,11)"
   ]
  },
  {
   "cell_type": "code",
   "execution_count": 88,
   "id": "545bd2b5",
   "metadata": {},
   "outputs": [
    {
     "data": {
      "text/plain": [
       "4"
      ]
     },
     "execution_count": 88,
     "metadata": {},
     "output_type": "execute_result"
    }
   ],
   "source": [
    "w = Dates.dayofweek(t)"
   ]
  },
  {
   "cell_type": "code",
   "execution_count": 89,
   "id": "9413b008",
   "metadata": {},
   "outputs": [
    {
     "data": {
      "text/plain": [
       "\"Thursday\""
      ]
     },
     "execution_count": 89,
     "metadata": {},
     "output_type": "execute_result"
    }
   ],
   "source": [
    "we = Dates.dayname(t)"
   ]
  },
  {
   "cell_type": "markdown",
   "id": "89d4c4aa",
   "metadata": {},
   "source": [
    "### **获取月份的信息**"
   ]
  },
  {
   "cell_type": "code",
   "execution_count": 90,
   "id": "a84b8b94",
   "metadata": {},
   "outputs": [
    {
     "data": {
      "text/plain": [
       "2019-04-11"
      ]
     },
     "execution_count": 90,
     "metadata": {},
     "output_type": "execute_result"
    }
   ],
   "source": [
    "t = Date(2019,4,11)"
   ]
  },
  {
   "cell_type": "code",
   "execution_count": 91,
   "id": "e5615a10",
   "metadata": {},
   "outputs": [
    {
     "data": {
      "text/plain": [
       "4"
      ]
     },
     "execution_count": 91,
     "metadata": {},
     "output_type": "execute_result"
    }
   ],
   "source": [
    "m = Dates.month(t)"
   ]
  },
  {
   "cell_type": "code",
   "execution_count": 92,
   "id": "242db220",
   "metadata": {},
   "outputs": [
    {
     "data": {
      "text/plain": [
       "\"April\""
      ]
     },
     "execution_count": 92,
     "metadata": {},
     "output_type": "execute_result"
    }
   ],
   "source": [
    "me = Dates.monthname(t)"
   ]
  },
  {
   "cell_type": "markdown",
   "id": "a31484c5",
   "metadata": {},
   "source": [
    "### **获取年份和季节信息**"
   ]
  },
  {
   "cell_type": "code",
   "execution_count": 93,
   "id": "4611e4d4",
   "metadata": {},
   "outputs": [
    {
     "data": {
      "text/plain": [
       "2019-04-11"
      ]
     },
     "execution_count": 93,
     "metadata": {},
     "output_type": "execute_result"
    }
   ],
   "source": [
    "t = Date(2019,4,11)"
   ]
  },
  {
   "cell_type": "code",
   "execution_count": 94,
   "id": "67daf7cd",
   "metadata": {},
   "outputs": [
    {
     "data": {
      "text/plain": [
       "101"
      ]
     },
     "execution_count": 94,
     "metadata": {},
     "output_type": "execute_result"
    }
   ],
   "source": [
    "x1 = Dates.dayofyear(t)"
   ]
  },
  {
   "cell_type": "code",
   "execution_count": 95,
   "id": "a1af82a2",
   "metadata": {},
   "outputs": [
    {
     "data": {
      "text/plain": [
       "false"
      ]
     },
     "execution_count": 95,
     "metadata": {},
     "output_type": "execute_result"
    }
   ],
   "source": [
    "x2 = Dates.isleapyear(t)"
   ]
  },
  {
   "cell_type": "code",
   "execution_count": 96,
   "id": "99b72b8c",
   "metadata": {},
   "outputs": [
    {
     "data": {
      "text/plain": [
       "2"
      ]
     },
     "execution_count": 96,
     "metadata": {},
     "output_type": "execute_result"
    }
   ],
   "source": [
    "x3 = Dates.quarterofyear(t)"
   ]
  },
  {
   "cell_type": "markdown",
   "id": "867b3953",
   "metadata": {},
   "source": [
    "## 9-2、`DateTime()`函数"
   ]
  },
  {
   "cell_type": "markdown",
   "id": "ea79e643",
   "metadata": {},
   "source": [
    "### **创建日期时间的方式**"
   ]
  },
  {
   "cell_type": "code",
   "execution_count": 97,
   "id": "1d520b66",
   "metadata": {},
   "outputs": [
    {
     "data": {
      "text/plain": [
       "2019-04-11T12:05:03.002"
      ]
     },
     "execution_count": 97,
     "metadata": {},
     "output_type": "execute_result"
    }
   ],
   "source": [
    "t = DateTime(2019,4,11,12,5,3,2)"
   ]
  },
  {
   "cell_type": "markdown",
   "id": "b370dd11",
   "metadata": {},
   "source": [
    "### **获取日期时间的信息**"
   ]
  },
  {
   "cell_type": "code",
   "execution_count": 98,
   "id": "793586ac",
   "metadata": {},
   "outputs": [
    {
     "data": {
      "text/plain": [
       "2019-04-11T12:05:03.002"
      ]
     },
     "execution_count": 98,
     "metadata": {},
     "output_type": "execute_result"
    }
   ],
   "source": [
    "t = DateTime(2019,4,11,12,5,3,2)"
   ]
  },
  {
   "cell_type": "code",
   "execution_count": 99,
   "id": "d30bd2e3",
   "metadata": {},
   "outputs": [
    {
     "data": {
      "text/plain": [
       "2019"
      ]
     },
     "execution_count": 99,
     "metadata": {},
     "output_type": "execute_result"
    }
   ],
   "source": [
    "y = Dates.year(t)"
   ]
  },
  {
   "cell_type": "code",
   "execution_count": 100,
   "id": "1c62b932",
   "metadata": {},
   "outputs": [
    {
     "data": {
      "text/plain": [
       "4"
      ]
     },
     "execution_count": 100,
     "metadata": {},
     "output_type": "execute_result"
    }
   ],
   "source": [
    "m = Dates.month(t)"
   ]
  },
  {
   "cell_type": "code",
   "execution_count": 101,
   "id": "0a20c87a",
   "metadata": {},
   "outputs": [
    {
     "data": {
      "text/plain": [
       "11"
      ]
     },
     "execution_count": 101,
     "metadata": {},
     "output_type": "execute_result"
    }
   ],
   "source": [
    "d = Dates.day(t)"
   ]
  },
  {
   "cell_type": "code",
   "execution_count": 102,
   "id": "c3117313",
   "metadata": {},
   "outputs": [
    {
     "data": {
      "text/plain": [
       "12"
      ]
     },
     "execution_count": 102,
     "metadata": {},
     "output_type": "execute_result"
    }
   ],
   "source": [
    "H = Dates.hour(t)"
   ]
  },
  {
   "cell_type": "code",
   "execution_count": 103,
   "id": "3da1883c",
   "metadata": {},
   "outputs": [
    {
     "data": {
      "text/plain": [
       "5"
      ]
     },
     "execution_count": 103,
     "metadata": {},
     "output_type": "execute_result"
    }
   ],
   "source": [
    "M = Dates.minute(t)"
   ]
  },
  {
   "cell_type": "code",
   "execution_count": 104,
   "id": "4033efdb",
   "metadata": {},
   "outputs": [
    {
     "data": {
      "text/plain": [
       "3"
      ]
     },
     "execution_count": 104,
     "metadata": {},
     "output_type": "execute_result"
    }
   ],
   "source": [
    "S = Dates.second(t)"
   ]
  },
  {
   "cell_type": "code",
   "execution_count": 105,
   "id": "3af39601",
   "metadata": {},
   "outputs": [
    {
     "data": {
      "text/plain": [
       "2"
      ]
     },
     "execution_count": 105,
     "metadata": {},
     "output_type": "execute_result"
    }
   ],
   "source": [
    "MS = Dates.millisecond(t)"
   ]
  },
  {
   "cell_type": "markdown",
   "id": "44a373f7",
   "metadata": {},
   "source": [
    "## 9-3、时间运算"
   ]
  },
  {
   "cell_type": "markdown",
   "id": "a1488563",
   "metadata": {},
   "source": [
    "### **`Date()`函数和`DateTime()`函数的运算**"
   ]
  },
  {
   "cell_type": "code",
   "execution_count": 106,
   "id": "3d555792",
   "metadata": {},
   "outputs": [
    {
     "data": {
      "text/plain": [
       "2019-04-11T12:05:03.002"
      ]
     },
     "execution_count": 106,
     "metadata": {},
     "output_type": "execute_result"
    }
   ],
   "source": [
    "t = DateTime(2019,4,11,12,5,3,2)"
   ]
  },
  {
   "cell_type": "code",
   "execution_count": 107,
   "id": "10bd62ff",
   "metadata": {},
   "outputs": [
    {
     "data": {
      "text/plain": [
       "2019-04-11T14:05:03.002"
      ]
     },
     "execution_count": 107,
     "metadata": {},
     "output_type": "execute_result"
    }
   ],
   "source": [
    "t1 = t + Dates.Hour(2)"
   ]
  },
  {
   "cell_type": "markdown",
   "id": "ec6d420a",
   "metadata": {},
   "source": [
    "## 9-4、时间序列"
   ]
  },
  {
   "cell_type": "code",
   "execution_count": 108,
   "id": "6774da2b",
   "metadata": {},
   "outputs": [
    {
     "data": {
      "text/plain": [
       "31-element Vector{Date}:\n",
       " 2018-01-01\n",
       " 2018-01-02\n",
       " 2018-01-03\n",
       " 2018-01-04\n",
       " 2018-01-05\n",
       " 2018-01-06\n",
       " 2018-01-07\n",
       " 2018-01-08\n",
       " 2018-01-09\n",
       " 2018-01-10\n",
       " 2018-01-11\n",
       " 2018-01-12\n",
       " 2018-01-13\n",
       " ⋮\n",
       " 2018-01-20\n",
       " 2018-01-21\n",
       " 2018-01-22\n",
       " 2018-01-23\n",
       " 2018-01-24\n",
       " 2018-01-25\n",
       " 2018-01-26\n",
       " 2018-01-27\n",
       " 2018-01-28\n",
       " 2018-01-29\n",
       " 2018-01-30\n",
       " 2018-01-31"
      ]
     },
     "execution_count": 108,
     "metadata": {},
     "output_type": "execute_result"
    }
   ],
   "source": [
    "Starttime = Date(2018,1,1)\n",
    "Endtime   = Date(2018,1,31)\n",
    "Timestep  = Dates.Day(1)\n",
    "d = collect(Starttime:Timestep:Endtime)"
   ]
  }
 ],
 "metadata": {
  "kernelspec": {
   "display_name": "Julia 1.7.3",
   "language": "julia",
   "name": "julia-1.7"
  },
  "language_info": {
   "file_extension": ".jl",
   "mimetype": "application/julia",
   "name": "julia",
   "version": "1.7.3"
  }
 },
 "nbformat": 4,
 "nbformat_minor": 5
}
